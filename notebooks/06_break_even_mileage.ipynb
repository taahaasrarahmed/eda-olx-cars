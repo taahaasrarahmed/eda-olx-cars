{
 "cells": [
  {
   "cell_type": "code",
   "execution_count": 1,
   "id": "68b393dc-5c1d-4da9-b4f7-1bf7cad8b2eb",
   "metadata": {
    "execution": {
     "iopub.execute_input": "2025-08-31T10:00:43.759867Z",
     "iopub.status.busy": "2025-08-31T10:00:43.759867Z",
     "iopub.status.idle": "2025-08-31T10:00:52.567818Z",
     "shell.execute_reply": "2025-08-31T10:00:52.567818Z",
     "shell.execute_reply.started": "2025-08-31T10:00:43.759867Z"
    }
   },
   "outputs": [],
   "source": [
    "import pandas as pd\n",
    "import numpy as np\n",
    "import matplotlib.pyplot as plt\n",
    "import seaborn as sns"
   ]
  },
  {
   "cell_type": "code",
   "execution_count": 2,
   "id": "98ffc8dc-0dc9-4d58-b70d-15527c905f04",
   "metadata": {
    "execution": {
     "iopub.execute_input": "2025-08-31T10:00:52.571902Z",
     "iopub.status.busy": "2025-08-31T10:00:52.571902Z",
     "iopub.status.idle": "2025-08-31T10:00:53.219162Z",
     "shell.execute_reply": "2025-08-31T10:00:53.218153Z",
     "shell.execute_reply.started": "2025-08-31T10:00:52.571902Z"
    }
   },
   "outputs": [],
   "source": [
    "df = pd.read_csv(\"../OLX_cars_dataset00.csv\")"
   ]
  },
  {
   "cell_type": "code",
   "execution_count": 3,
   "id": "bb51b608-cb9d-4ed6-a54f-7104315232b6",
   "metadata": {
    "execution": {
     "iopub.execute_input": "2025-08-31T10:00:53.224528Z",
     "iopub.status.busy": "2025-08-31T10:00:53.223376Z",
     "iopub.status.idle": "2025-08-31T10:00:54.894925Z",
     "shell.execute_reply": "2025-08-31T10:00:54.891603Z",
     "shell.execute_reply.started": "2025-08-31T10:00:53.224528Z"
    }
   },
   "outputs": [
    {
     "name": "stderr",
     "output_type": "stream",
     "text": [
      "C:\\Users\\mtaah\\AppData\\Local\\Programs\\Python\\Python312\\Lib\\site-packages\\numpy\\lib\\_function_base_impl.py:1290: RuntimeWarning: divide by zero encountered in divide\n",
      "  a = -(dx2)/(dx1 * (dx1 + dx2))\n",
      "C:\\Users\\mtaah\\AppData\\Local\\Programs\\Python\\Python312\\Lib\\site-packages\\numpy\\lib\\_function_base_impl.py:1290: RuntimeWarning: invalid value encountered in divide\n",
      "  a = -(dx2)/(dx1 * (dx1 + dx2))\n",
      "C:\\Users\\mtaah\\AppData\\Local\\Programs\\Python\\Python312\\Lib\\site-packages\\numpy\\lib\\_function_base_impl.py:1291: RuntimeWarning: divide by zero encountered in divide\n",
      "  b = (dx2 - dx1) / (dx1 * dx2)\n",
      "C:\\Users\\mtaah\\AppData\\Local\\Programs\\Python\\Python312\\Lib\\site-packages\\numpy\\lib\\_function_base_impl.py:1291: RuntimeWarning: invalid value encountered in divide\n",
      "  b = (dx2 - dx1) / (dx1 * dx2)\n",
      "C:\\Users\\mtaah\\AppData\\Local\\Programs\\Python\\Python312\\Lib\\site-packages\\numpy\\lib\\_function_base_impl.py:1292: RuntimeWarning: divide by zero encountered in divide\n",
      "  c = dx1 / (dx2 * (dx1 + dx2))\n",
      "C:\\Users\\mtaah\\AppData\\Local\\Programs\\Python\\Python312\\Lib\\site-packages\\numpy\\lib\\_function_base_impl.py:1292: RuntimeWarning: invalid value encountered in divide\n",
      "  c = dx1 / (dx2 * (dx1 + dx2))\n",
      "C:\\Users\\mtaah\\AppData\\Local\\Programs\\Python\\Python312\\Lib\\site-packages\\numpy\\lib\\_function_base_impl.py:1298: RuntimeWarning: invalid value encountered in add\n",
      "  out[tuple(slice1)] = a * f[tuple(slice2)] + b * f[tuple(slice3)] + c * f[tuple(slice4)]\n",
      "C:\\Users\\mtaah\\AppData\\Local\\Programs\\Python\\Python312\\Lib\\site-packages\\numpy\\lib\\_function_base_impl.py:1314: RuntimeWarning: invalid value encountered in scalar divide\n",
      "  out[tuple(slice1)] = (f[tuple(slice2)] - f[tuple(slice3)]) / dx_n\n",
      "C:\\Users\\mtaah\\AppData\\Local\\Programs\\Python\\Python312\\Lib\\site-packages\\numpy\\lib\\_function_base_impl.py:1307: RuntimeWarning: invalid value encountered in scalar divide\n",
      "  out[tuple(slice1)] = (f[tuple(slice2)] - f[tuple(slice3)]) / dx_0\n"
     ]
    },
    {
     "name": "stdout",
     "output_type": "stream",
     "text": [
      "Estimated break-even mileage: 17161.090909090908\n"
     ]
    }
   ],
   "source": [
    "from statsmodels.nonparametric.smoothers_lowess import lowess\n",
    "import numpy as np\n",
    "\n",
    "break_even_points = []\n",
    "\n",
    "for (make, model), group in df.groupby(['Make', 'Model']):\n",
    "    if len(group) < 10:  # avoid too small datasets\n",
    "        continue\n",
    "    \n",
    "    # Sort by mileage\n",
    "    group = group.sort_values(\"KM's driven\")\n",
    "\n",
    "    # Smooth the curve\n",
    "    smoothed = lowess(group['Price'], group[\"KM's driven\"], frac=0.3)\n",
    "    km_smooth, price_smooth = smoothed[:,0], smoothed[:,1]\n",
    "\n",
    "    # Find gradient (price change per km)\n",
    "    gradient = np.gradient(price_smooth, km_smooth)\n",
    "\n",
    "    # Find mileage where slope is most negative\n",
    "    idx_min = np.argmin(gradient)\n",
    "    break_even_km = km_smooth[idx_min]\n",
    "    break_even_points.append(break_even_km)\n",
    "\n",
    "# Average across all makes/models\n",
    "overall_break_even = np.mean(break_even_points)\n",
    "print(\"Estimated break-even mileage:\", overall_break_even)"
   ]
  },
  {
   "cell_type": "code",
   "execution_count": null,
   "id": "2bb95d0f-22a4-48e9-acca-3957799ae624",
   "metadata": {},
   "outputs": [],
   "source": []
  },
  {
   "cell_type": "code",
   "execution_count": null,
   "id": "f9db8d63-1d4c-4b5a-ab97-0c07c643007b",
   "metadata": {},
   "outputs": [],
   "source": []
  }
 ],
 "metadata": {
  "kernelspec": {
   "display_name": "Python 3 (ipykernel)",
   "language": "python",
   "name": "python3"
  },
  "language_info": {
   "codemirror_mode": {
    "name": "ipython",
    "version": 3
   },
   "file_extension": ".py",
   "mimetype": "text/x-python",
   "name": "python",
   "nbconvert_exporter": "python",
   "pygments_lexer": "ipython3",
   "version": "3.12.5"
  }
 },
 "nbformat": 4,
 "nbformat_minor": 5
}
